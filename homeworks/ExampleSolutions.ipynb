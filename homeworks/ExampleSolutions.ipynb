{
 "cells": [
  {
   "cell_type": "markdown",
   "metadata": {},
   "source": [
    "# Example solutions to problems in [L03-ConditionalProbability.pdf](https://tomfletcher.github.io/FoDA/lectures/L03-ConditionalProbability-slides.pdf)\n",
    "\n",
    "# Problem 1"
   ]
  },
  {
   "cell_type": "markdown",
   "metadata": {},
   "source": [
    "The events in the problem are:\n",
    "$$C = \\text{\"the visitor clicked the ad\"}$$\n",
    "$$B = \\text{\"the visitor bought the widget\"}$$"
   ]
  },
  {
   "cell_type": "markdown",
   "metadata": {},
   "source": [
    "What we know from the problem:\n",
    "$$P(C) = 0.5$$\n",
    "$$P(B \\cap C) = 0.2$$"
   ]
  },
  {
   "cell_type": "markdown",
   "metadata": {},
   "source": [
    "We are asked: what is $P(B \\mid C)$?"
   ]
  },
  {
   "cell_type": "markdown",
   "metadata": {},
   "source": [
    "$$\n",
    "\\begin{aligned}\n",
    "P(B \\mid C) &= \\frac{P(B \\cap C)}{P(C)} & \\text{using conditional probability definition}\\\\\n",
    "            &= \\frac{0.2}{0.5} & \\text{plugging in known probabilities}\\\\\n",
    "            &= 0.4 & \\text{simplifying}\\\\\n",
    "\\end{aligned}\n",
    "$$"
   ]
  },
  {
   "cell_type": "markdown",
   "metadata": {},
   "source": [
    "# Problem 2"
   ]
  },
  {
   "cell_type": "markdown",
   "metadata": {},
   "source": [
    "The events in the problem are:\n",
    "$$C = \\text{\"it's cloudy in Charlottesville\"}$$\n",
    "$$W = \\text{\"it's windy in Charlottesville\"}$$"
   ]
  },
  {
   "cell_type": "markdown",
   "metadata": {},
   "source": [
    "What we know from the problem:\n",
    "$$P(C) = 0.4$$\n",
    "$$P(W \\mid C) = 0.25$$"
   ]
  },
  {
   "cell_type": "markdown",
   "metadata": {},
   "source": [
    "We are asked: what is $P(W \\cap C)$?"
   ]
  },
  {
   "cell_type": "markdown",
   "metadata": {},
   "source": [
    "$$\n",
    "\\begin{aligned}\n",
    "P(W \\cap C) &= P(W \\mid C) P(C) & \\text{Multiplication Rule}\\\\\n",
    "            &= 0.25 \\times 0.4 & \\\\\n",
    "            &= 0.1 & \\\\\n",
    "\\end{aligned}\n",
    "$$"
   ]
  },
  {
   "cell_type": "markdown",
   "metadata": {},
   "source": [
    "# Boy Born on Tuesday"
   ]
  },
  {
   "cell_type": "markdown",
   "metadata": {},
   "source": [
    "We want to calculate probability I have **two boys** given I have **one boy born on Tuesday**."
   ]
  },
  {
   "cell_type": "markdown",
   "metadata": {},
   "source": [
    "Events:\n",
    "$$T = \\text{two boys}$$\n",
    "$$O = \\text{one boy born on Tuesday}$$"
   ]
  },
  {
   "cell_type": "markdown",
   "metadata": {},
   "source": [
    "$$P(T \\mid O) = \\frac{|T \\cap O|}{|O|}$$"
   ]
  },
  {
   "cell_type": "markdown",
   "metadata": {},
   "source": [
    "Enumerate outcomes:\n",
    "\n",
    "**First Child:** Boy/Mon, Boy/Tue, ..., Girl/Mon, Girl/Tue, ... = 14 cases  \n",
    "**Second Child:** Boy/Mon, Boy/Tue, ..., Girl/Mon, Girl/Tue, ... = 14 cases\n",
    "\n",
    "Total number of unique outcomes for 2 children = $14 \\times 14 = 196$"
   ]
  },
  {
   "cell_type": "markdown",
   "metadata": {},
   "source": [
    "## $T \\cap O = \\text{two boys and one born on Tuesday}$\n",
    "\n",
    "Case 1:  \n",
    "**First child** = Boy/Tue  \n",
    "**Second Child** is one of Boy/Mon, Boy/Tue, ...  \n",
    "7 unique outcomes\n",
    "\n",
    "Case 2:  \n",
    "**First child** is one of Boy/Mon, Boy/Tue, ...  \n",
    "**Second Child** = Boy/Tue  \n",
    "7 unique outcomes"
   ]
  },
  {
   "cell_type": "markdown",
   "metadata": {},
   "source": [
    "But **both cases** include the outcome **first child** = Boy/Tue and **second child** = Boy/Tue"
   ]
  },
  {
   "cell_type": "markdown",
   "metadata": {},
   "source": [
    "So, in the end, combining the two cases gives $$|T \\cap O| = 7 + 7 - 1 = 13$$ unique outcomes. The $-1$ removes the double-counting."
   ]
  },
  {
   "cell_type": "markdown",
   "metadata": {},
   "source": [
    "## $O = \\text{one child is a boy born on Tuesday}$"
   ]
  },
  {
   "cell_type": "markdown",
   "metadata": {},
   "source": [
    "The logic is the same as above, but now the cases include girls or boys:\n",
    "\n",
    "Case 1:  \n",
    "**First child** = Boy/Tue  \n",
    "**Second Child** is one of Boy/Mon, Boy/Tue, ..., Girl/Mon, Girl/Tue, ...  \n",
    "14 unique outcomes\n",
    "\n",
    "Case 2:  \n",
    "**First child** is one of Boy/Mon, Boy/Tue, ..., Girl/Mon, Girl/Tue, ...  \n",
    "**Second Child** = Boy/Tue  \n",
    "14 unique outcomes\n",
    "\n",
    "Now we have\n",
    "$$|O| = 14 + 14 - 1 = 27$$\n",
    "unique outcomes."
   ]
  },
  {
   "cell_type": "markdown",
   "metadata": {},
   "source": [
    "## Final Probability\n",
    "\n",
    "$$P(T \\mid O) = \\frac{|T \\cap O|}{|O|} = \\frac{13}{27} \\approx 0.48$$"
   ]
  },
  {
   "cell_type": "code",
   "execution_count": 4,
   "metadata": {},
   "outputs": [
    {
     "data": {
      "text/plain": [
       "0.48148148148148145"
      ]
     },
     "execution_count": 4,
     "metadata": {},
     "output_type": "execute_result"
    }
   ],
   "source": [
    "13/27"
   ]
  }
 ],
 "metadata": {
  "kernelspec": {
   "display_name": "Python 3",
   "language": "python",
   "name": "python3"
  },
  "language_info": {
   "codemirror_mode": {
    "name": "ipython",
    "version": 3
   },
   "file_extension": ".py",
   "mimetype": "text/x-python",
   "name": "python",
   "nbconvert_exporter": "python",
   "pygments_lexer": "ipython3",
   "version": "3.8.3"
  }
 },
 "nbformat": 4,
 "nbformat_minor": 4
}

{
 "cells": [
  {
   "cell_type": "markdown",
   "metadata": {},
   "source": [
    "# Example of Loading and Plotting Data\n",
    "\n",
    "First, we will load some useful libraries to work with data. I recommend using the `pandas` library to read in tables of data. The `matplotlib` library is for basic plotting, and the `seaborn` library does some fancier statistical plots. ***Note:*** These are recommendations. You are not required to use the same libraries or do things the same way."
   ]
  },
  {
   "cell_type": "code",
   "execution_count": null,
   "metadata": {},
   "outputs": [],
   "source": [
    "import pandas as pd\n",
    "import matplotlib.pyplot as plt\n",
    "import seaborn as sns\n",
    "\n",
    "# Just some color options for seaborn plots\n",
    "sns.set(style=\"darkgrid\")\n",
    "sns.set_palette(\"Dark2\")"
   ]
  },
  {
   "cell_type": "markdown",
   "metadata": {},
   "source": [
    "Let's explore the famous iris data set. First, load it as a dataframe using pandas. ***Note:*** The `iris.csv` file will have to be in the same directory that you are running this Jupyter notebook. Get it [here](http://tomfletcher.github.io/FoDA/examples/iris.csv)."
   ]
  },
  {
   "cell_type": "code",
   "execution_count": null,
   "metadata": {},
   "outputs": [],
   "source": [
    "df = pd.read_csv(\"iris.csv\")\n",
    "\n",
    "# Actually, the iris data is also built into the seaborn library.\n",
    "# You could load it without the csv file like this:\n",
    "# df = sns.load_dataset(\"iris\")\n",
    "\n",
    "print(df)"
   ]
  },
  {
   "cell_type": "markdown",
   "metadata": {},
   "source": [
    "Let's plot two of the variables, petal length and sepal length, using a scatter plot. Both of these variables are in the same units (centimeters), so it is good practice to plot the axes equally, that is, not stretched differently relative to one another."
   ]
  },
  {
   "cell_type": "code",
   "execution_count": null,
   "metadata": {
    "scrolled": true
   },
   "outputs": [],
   "source": [
    "ax = sns.scatterplot(x = \"petal_length\", y = \"sepal_length\", data = df)\n",
    "ax.axis(\"equal\")\n",
    "ax.set_title(\"Iris Sepal vs. Petal Length\")\n",
    "plt.show()"
   ]
  },
  {
   "cell_type": "markdown",
   "metadata": {},
   "source": [
    "There are clearly two clusters in this data. However, we know there are three species, so we might have expected three clusters. Color coding the points by the species label will help make it clearer what is going on."
   ]
  },
  {
   "cell_type": "code",
   "execution_count": null,
   "metadata": {
    "scrolled": true
   },
   "outputs": [],
   "source": [
    "ax = sns.scatterplot(x = \"petal_length\", y = \"sepal_length\", hue = \"species\", data = df)\n",
    "ax.axis(\"equal\")\n",
    "ax.set_title(\"Iris Sepal vs. Petal Length\")\n",
    "plt.show()"
   ]
  },
  {
   "cell_type": "code",
   "execution_count": null,
   "metadata": {
    "scrolled": true
   },
   "outputs": [],
   "source": [
    "# This groups the data into three dataframes, one for each species\n",
    "grouped = df.groupby(\"species\")\n",
    "\n",
    "# Pull out the column (1d array) of the petal length for each group\n",
    "setosa = grouped.get_group(\"setosa\")[\"petal_length\"]\n",
    "versicolor = grouped.get_group(\"versicolor\")[\"petal_length\"]\n",
    "virginica = grouped.get_group(\"virginica\")[\"petal_length\"]\n",
    "\n",
    "# The 'distplot' function plots a density estimate and histogram by default\n",
    "sns.distplot(setosa)\n",
    "sns.distplot(versicolor)\n",
    "sns.distplot(virginica)\n",
    "\n",
    "plt.title(\"Density/Histogram Plot of Iris Petal Lengths\")\n",
    "plt.show()"
   ]
  },
  {
   "cell_type": "markdown",
   "metadata": {},
   "source": [
    "The next plot just changes the default settings to (1) remove the histogram, (2) show the density plot shaded in, and (3) add a \"rug\" plot at the bottom showing where the data points are."
   ]
  },
  {
   "cell_type": "code",
   "execution_count": null,
   "metadata": {},
   "outputs": [],
   "source": [
    "sns.distplot(setosa, hist = False, rug = True, kde_kws = {'shade': True}, label = \"setosa\")\n",
    "sns.distplot(versicolor, hist = False, rug = True, kde_kws = {'shade': True}, label = \"versicolor\")\n",
    "sns.distplot(virginica, hist = False, rug = True, kde_kws = {'shade': True}, label = \"virginica\")\n",
    "plt.title(\"Density Plot of Iris Petal Lengths\")\n",
    "plt.show()"
   ]
  },
  {
   "cell_type": "markdown",
   "metadata": {},
   "source": [
    "We've looked at petal length and sepal length, but there are two more variables in the iris data: petal and sepal width. But we only have two dimensions to work with on our computer screens! How do we plot 4D data? One strategy is a *pair plot*, which plots all pairs of variables in a matrix. In our case we have a 4x4 matrix of plots. Here we can see all pairwise comparisons between variables."
   ]
  },
  {
   "cell_type": "code",
   "execution_count": null,
   "metadata": {},
   "outputs": [],
   "source": [
    "sns.pairplot(df, hue = \"species\")\n",
    "plt.show()"
   ]
  }
 ],
 "metadata": {
  "kernelspec": {
   "display_name": "Python 3",
   "language": "python",
   "name": "python3"
  },
  "language_info": {
   "codemirror_mode": {
    "name": "ipython",
    "version": 3
   },
   "file_extension": ".py",
   "mimetype": "text/x-python",
   "name": "python",
   "nbconvert_exporter": "python",
   "pygments_lexer": "ipython3",
   "version": "3.6.0"
  }
 },
 "nbformat": 4,
 "nbformat_minor": 2
}

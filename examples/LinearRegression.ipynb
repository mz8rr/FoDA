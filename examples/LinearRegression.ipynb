{
 "cells": [
  {
   "cell_type": "markdown",
   "metadata": {},
   "source": [
    "## Linear Regression Example\n",
    "\n",
    "As usual, we load our libraries first. In addition to the libraries we have already used, we are going to be using `sklearn` to do the linear regression for us."
   ]
  },
  {
   "cell_type": "code",
   "execution_count": null,
   "metadata": {},
   "outputs": [],
   "source": [
    "import pandas as pd\n",
    "import matplotlib.pyplot as plt\n",
    "import seaborn as sns\n",
    "import numpy as np\n",
    "from sklearn import linear_model\n",
    "%matplotlib notebook\n",
    "\n",
    "# Just some color options for seaborn plots\n",
    "sns.set(style=\"darkgrid\")\n",
    "sns.set_palette(\"Dark2\")"
   ]
  },
  {
   "cell_type": "markdown",
   "metadata": {},
   "source": [
    "The data for this example are height measurements (in inches) of mothers and their daughters. Get the csv file here:\n",
    "\n",
    "[https://tomfletcher.github.io/FoDA/examples/mother_daughter.csv](https://tomfletcher.github.io/FoDA/examples/mother_daughter.csv)\n",
    "\n",
    "This dataset is adapted from [https://github.com/kbroman/PearsonData](https://github.com/kbroman/PearsonData) and is from a classic 1903 paper:\n",
    "\n",
    "Karl Pearson and Alice Lee (1903) On the laws of inheritance in man: I. Inheritance of physical characters. Biometrika 2: 357-462\n",
    "\n",
    "So, we might ask: is there any relationship between the height of a mother and the height of her daughter? Could we predict how tall a woman is going to be if we know the height of her mother?"
   ]
  },
  {
   "cell_type": "code",
   "execution_count": null,
   "metadata": {},
   "outputs": [],
   "source": [
    "df = pd.read_csv(\"mother_daughter.csv\")\n",
    "df.head(n=10)"
   ]
  },
  {
   "cell_type": "markdown",
   "metadata": {},
   "source": [
    "As always, we start off by plotting the data. We have two columns of real numbers, so a 2D scatterplot is appropriate."
   ]
  },
  {
   "cell_type": "code",
   "execution_count": null,
   "metadata": {},
   "outputs": [],
   "source": [
    "ax = sns.scatterplot(x = \"mother_stature\", y = \"daughter_stature\", color = \"blue\", data = df)\n",
    "ax.axis(\"equal\")\n",
    "ax.set_title(\"Mother\\'s Height vs. Daughter\\'s Height\")\n",
    "plt.show()"
   ]
  },
  {
   "cell_type": "markdown",
   "metadata": {},
   "source": [
    "Next, we run a linear regression using `sklearn` and take a look at the resulting slope and intercept."
   ]
  },
  {
   "cell_type": "code",
   "execution_count": null,
   "metadata": {},
   "outputs": [],
   "source": [
    "lm = linear_model.LinearRegression()\n",
    "lm.fit(df[[\"mother_stature\"]], df[\"daughter_stature\"])\n",
    "\n",
    "# Get the intercept\n",
    "a = lm.intercept_\n",
    "# Get the slope\n",
    "b = lm.coef_[0]\n",
    "\n",
    "print(\"The intercept is\",  a)\n",
    "print(\"The slope is\", b)"
   ]
  },
  {
   "cell_type": "markdown",
   "metadata": {},
   "source": [
    "Finally, using the fitted slope and intercept, we plot the estimated regression line."
   ]
  },
  {
   "cell_type": "code",
   "execution_count": null,
   "metadata": {},
   "outputs": [],
   "source": [
    "# Plot the data as a scatter plot again\n",
    "ax = sns.scatterplot(x = \"mother_stature\", y = \"daughter_stature\", color = \"blue\", data = df)\n",
    "\n",
    "# Plot the estimated line from x = 50 to 75\n",
    "x = np.array([50, 75])\n",
    "sns.lineplot(x, a + b * x, color = \"coral\", lw = 3)\n",
    "\n",
    "ax.axis(\"equal\")\n",
    "ax.set_title(\"Mother\\'s Height vs. Daughter\\'s Height\")\n",
    "plt.show()"
   ]
  }
 ],
 "metadata": {
  "kernelspec": {
   "display_name": "Python 3",
   "language": "python",
   "name": "python3"
  },
  "language_info": {
   "codemirror_mode": {
    "name": "ipython",
    "version": 3
   },
   "file_extension": ".py",
   "mimetype": "text/x-python",
   "name": "python",
   "nbconvert_exporter": "python",
   "pygments_lexer": "ipython3",
   "version": "3.6.0"
  }
 },
 "nbformat": 4,
 "nbformat_minor": 2
}

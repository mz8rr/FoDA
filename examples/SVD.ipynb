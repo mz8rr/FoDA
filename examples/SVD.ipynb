{
 "cells": [
  {
   "cell_type": "code",
   "execution_count": 1,
   "metadata": {},
   "outputs": [],
   "source": [
    "import numpy as np\n",
    "from scipy import linalg as LA\n",
    "import math\n",
    "import matplotlib.pyplot as plt"
   ]
  },
  {
   "cell_type": "markdown",
   "metadata": {},
   "source": [
    "## Rotation matrices\n",
    "\n",
    "A rotation of 2D space can be written as matrix multiplication. A rotation by an angle of $\\theta$ can be represented by the following matrix:\n",
    "\n",
    "$$R = \\begin{pmatrix} \\cos(\\theta) & -\\sin(\\theta)\\\\ \\sin(\\theta) & \\cos(\\theta) \\end{pmatrix}$$\n",
    "\n",
    "Rotation of the vector $v \\in \\mathbb{R}^2$ by an angle of $\\theta$ is given by $Rv$. Notice two facts about this matrix:\n",
    "\n",
    "1. The columns have length 1 (remember: $\\cos(\\theta)^2 + \\sin(\\theta)^2 = 1$).\n",
    "2. The columns are orthogonal to each other (dot product between them is zero).\n",
    "\n",
    "A matrix that satisfies these two properties is called an **orthogonal matrix**. Higher-dimensional rotations are also orthogonal matrices. An orthogonal matrix may flip (or mirror) space in addition to rotating it. For example, multiplication by this matrix will mirror a vector about the $y$-axis:\n",
    "$$M = \\begin{pmatrix} -1 & 0 \\\\ 0 & 1 \\end{pmatrix}$$\n",
    "\n",
    "Here's an example of a 2D rotation matrix:"
   ]
  },
  {
   "cell_type": "code",
   "execution_count": 2,
   "metadata": {},
   "outputs": [
    {
     "name": "stdout",
     "output_type": "stream",
     "text": [
      "[[ 0.5       -0.8660254]\n",
      " [ 0.8660254  0.5      ]]\n"
     ]
    }
   ],
   "source": [
    "# Define a rotation by angle theta = 60 degrees\n",
    "theta = math.pi / 3\n",
    "R = np.array([[math.cos(theta), -math.sin(theta)],\n",
    "               [math.sin(theta), math.cos(theta)]])\n",
    "print(R)"
   ]
  },
  {
   "cell_type": "code",
   "execution_count": 3,
   "metadata": {},
   "outputs": [
    {
     "data": {
      "image/png": "[encoded data removed]",
      "text/plain": [
       "<Figure size 432x432 with 1 Axes>"
      ]
     },
     "metadata": {
      "needs_background": "light"
     },
     "output_type": "display_data"
    }
   ],
   "source": [
    "# Helper function to draw a vector as an arrow\n",
    "def drawVec(v, col):\n",
    "    plt.arrow(0, 0, v[0], v[1],\n",
    "              width=0.03, length_includes_head=True,\n",
    "              head_width=0.1, head_length=0.1,\n",
    "              color=col)\n",
    "\n",
    "# Define three vectors\n",
    "v1 = np.array([1, 0])\n",
    "v2 = np.array([0, 1])\n",
    "v3 = np.array([1.2, 0.5])\n",
    "\n",
    "# Bunch of stuff to set up the plot\n",
    "fig, ax = plt.subplots(figsize=(6,6))\n",
    "plt.axis(\"equal\")\n",
    "ax.set_axisbelow(True)\n",
    "plt.grid(True)\n",
    "plt.xlim(-1, 2)\n",
    "plt.ylim(-0.5, 2.5)\n",
    "\n",
    "# Draw the three vectors\n",
    "drawVec(v1, \"Blue\")\n",
    "drawVec(v2, \"Blue\")\n",
    "drawVec(v3, \"Blue\")\n",
    "\n",
    "# Draw rotated vectors\n",
    "drawVec(R.dot(v1), \"Red\")\n",
    "drawVec(R.dot(v2), \"Red\")\n",
    "drawVec(R.dot(v3), \"Red\")\n",
    "\n",
    "plt.show()"
   ]
  },
  {
   "cell_type": "markdown",
   "metadata": {},
   "source": [
    "The inverse of a rotation matrix is simply its transpose. That is,\n",
    "\n",
    "$$R R^T = R^T R = I.$$"
   ]
  },
  {
   "cell_type": "code",
   "execution_count": 4,
   "metadata": {},
   "outputs": [
    {
     "name": "stdout",
     "output_type": "stream",
     "text": [
      "R R^T =\n",
      " [[1.00000000e+00 1.48741681e-17]\n",
      " [1.48741681e-17 1.00000000e+00]] \n",
      "\n",
      "R^T R =\n",
      " [[ 1.00000000e+00 -1.48741681e-17]\n",
      " [-1.48741681e-17  1.00000000e+00]]\n"
     ]
    }
   ],
   "source": [
    "print(\"R R^T =\\n\", R.dot(R.T), \"\\n\")\n",
    "print(\"R^T R =\\n\", (R.T).dot(R))"
   ]
  },
  {
   "cell_type": "markdown",
   "metadata": {},
   "source": [
    "## Singular Value Decomposition\n",
    "\n",
    "As we discussed in class, singular value decomposition (SVD) decomposes a matrix $A$ as\n",
    "\n",
    "$$A = USV^T,$$\n",
    "\n",
    "where $U$ and $V$ are orthogonal, and $S$ is diagonal with nonnegative entries.\n",
    "\n",
    "Here is an example of decomposing a 2x2 matrix into a series of 2D transformations."
   ]
  },
  {
   "cell_type": "code",
   "execution_count": 5,
   "metadata": {
    "scrolled": true
   },
   "outputs": [
    {
     "name": "stdout",
     "output_type": "stream",
     "text": [
      "A =\n",
      " [[ 1.5   1.6 ]\n",
      " [-1.8   0.25]] \n",
      "\n",
      "SVD\n",
      "===\n",
      "\n",
      "U =\n",
      " [[-0.80975944  0.586762  ]\n",
      " [ 0.586762    0.80975944]] \n",
      "\n",
      "S =\n",
      " [[2.54491833 0.        ]\n",
      " [0.         1.27901944]] \n",
      "\n",
      "V^T =\n",
      " [[-0.8922922  -0.45145834]\n",
      " [-0.45145834  0.8922922 ]] \n",
      "\n",
      "U S V^T =\n",
      " [[ 1.5   1.6 ]\n",
      " [-1.8   0.25]] \n",
      "\n"
     ]
    }
   ],
   "source": [
    "A = np.array([[1.5, 1.6], [-1.8, 0.25]])\n",
    "print(\"A =\\n\", A, \"\\n\")\n",
    "\n",
    "U, s, Vt = LA.svd(A)\n",
    "\n",
    "S = LA.diagsvd(s, 2, 2)\n",
    "\n",
    "print(\"SVD\\n===\\n\")\n",
    "print(\"U =\\n\", U, \"\\n\")\n",
    "print(\"S =\\n\", S, \"\\n\")\n",
    "print(\"V^T =\\n\", Vt, \"\\n\")\n",
    "print(\"U S V^T =\\n\", U.dot(S.dot(Vt)), \"\\n\")"
   ]
  },
  {
   "cell_type": "code",
   "execution_count": 6,
   "metadata": {},
   "outputs": [
    {
     "data": {
      "image/png": "[encoded data removed]",
      "text/plain": [
       "<Figure size 432x432 with 1 Axes>"
      ]
     },
     "metadata": {
      "needs_background": "light"
     },
     "output_type": "display_data"
    }
   ],
   "source": [
    "# Bunch of stuff to set up the plot\n",
    "fig, ax = plt.subplots(figsize=(6,6))\n",
    "plt.axis(\"equal\")\n",
    "ax.set_axisbelow(True)\n",
    "plt.grid(True)\n",
    "plt.xlim(-3.5, 3.5)\n",
    "plt.ylim(-3.5, 3.5)\n",
    "\n",
    "# Draw the three vectors\n",
    "drawVec(v1, \"Blue\")\n",
    "drawVec(v2, \"Blue\")\n",
    "drawVec(v3, \"Blue\")\n",
    "\n",
    "# Draw rotated vectors\n",
    "drawVec(A.dot(v1), \"Red\")\n",
    "drawVec(A.dot(v2), \"Red\")\n",
    "drawVec(A.dot(v3), \"Red\")\n",
    "\n",
    "plt.show()"
   ]
  },
  {
   "cell_type": "code",
   "execution_count": 7,
   "metadata": {},
   "outputs": [
    {
     "data": {
      "image/png": "[encoded data removed]",
      "text/plain": [
       "<Figure size 432x432 with 1 Axes>"
      ]
     },
     "metadata": {
      "needs_background": "light"
     },
     "output_type": "display_data"
    }
   ],
   "source": [
    "# Bunch of stuff to set up the plot\n",
    "fig, ax = plt.subplots(figsize=(6,6))\n",
    "plt.axis(\"equal\")\n",
    "ax.set_axisbelow(True)\n",
    "plt.grid(True)\n",
    "plt.xlim(-3.5, 3.5)\n",
    "plt.ylim(-3.5, 3.5)\n",
    "\n",
    "# Draw the three vectors\n",
    "drawVec(v1, \"Blue\")\n",
    "drawVec(v2, \"Blue\")\n",
    "drawVec(v3, \"Blue\")\n",
    "\n",
    "# Draw rotated vectors\n",
    "drawVec(Vt.dot(v1), \"Cyan\")\n",
    "drawVec(Vt.dot(v2), \"Cyan\")\n",
    "drawVec(Vt.dot(v3), \"Cyan\")\n",
    "\n",
    "plt.show()"
   ]
  },
  {
   "cell_type": "code",
   "execution_count": 8,
   "metadata": {},
   "outputs": [
    {
     "data": {
      "image/png": "[encoded data removed]",
      "text/plain": [
       "<Figure size 432x432 with 1 Axes>"
      ]
     },
     "metadata": {
      "needs_background": "light"
     },
     "output_type": "display_data"
    }
   ],
   "source": [
    "# Bunch of stuff to set up the plot\n",
    "fig, ax = plt.subplots(figsize=(6,6))\n",
    "plt.axis(\"equal\")\n",
    "ax.set_axisbelow(True)\n",
    "plt.grid(True)\n",
    "plt.xlim(-3.5, 3.5)\n",
    "plt.ylim(-3.5, 3.5)\n",
    "\n",
    "# Draw the three vectors\n",
    "drawVec(v1, \"Blue\")\n",
    "drawVec(v2, \"Blue\")\n",
    "drawVec(v3, \"Blue\")\n",
    "\n",
    "# Draw rotated vectors\n",
    "drawVec(Vt.dot(v1), \"Cyan\")\n",
    "drawVec(Vt.dot(v2), \"Cyan\")\n",
    "drawVec(Vt.dot(v3), \"Cyan\")\n",
    "\n",
    "# Draw rotated and scaled vectors\n",
    "drawVec(S.dot(Vt.dot(v1)), \"Magenta\")\n",
    "drawVec(S.dot(Vt.dot(v2)), \"Magenta\")\n",
    "drawVec(S.dot(Vt.dot(v3)), \"Magenta\")\n",
    "\n",
    "plt.show()"
   ]
  },
  {
   "cell_type": "code",
   "execution_count": 9,
   "metadata": {},
   "outputs": [
    {
     "data": {
      "image/png": "[encoded data removed]",
      "text/plain": [
       "<Figure size 432x432 with 1 Axes>"
      ]
     },
     "metadata": {
      "needs_background": "light"
     },
     "output_type": "display_data"
    }
   ],
   "source": [
    "# Bunch of stuff to set up the plot\n",
    "fig, ax = plt.subplots(figsize=(6,6))\n",
    "plt.axis(\"equal\")\n",
    "ax.set_axisbelow(True)\n",
    "plt.grid(True)\n",
    "plt.xlim(-3.5, 3.5)\n",
    "plt.ylim(-3.5, 3.5)\n",
    "\n",
    "# Draw the three vectors\n",
    "drawVec(v1, \"Blue\")\n",
    "drawVec(v2, \"Blue\")\n",
    "drawVec(v3, \"Blue\")\n",
    "\n",
    "# Draw rotated vectors\n",
    "drawVec(Vt.dot(v1), \"Cyan\")\n",
    "drawVec(Vt.dot(v2), \"Cyan\")\n",
    "drawVec(Vt.dot(v3), \"Cyan\")\n",
    "\n",
    "# Draw rotated and scaled vectors\n",
    "drawVec(S.dot(Vt.dot(v1)), \"Magenta\")\n",
    "drawVec(S.dot(Vt.dot(v2)), \"Magenta\")\n",
    "drawVec(S.dot(Vt.dot(v3)), \"Magenta\")\n",
    "\n",
    "# Draw rotated, scaled, and rotated vectors\n",
    "drawVec(U.dot(S.dot(Vt.dot(v1))), \"Red\")\n",
    "drawVec(U.dot(S.dot(Vt.dot(v2))), \"Red\")\n",
    "drawVec(U.dot(S.dot(Vt.dot(v3))), \"Red\")\n",
    "\n",
    "plt.show()"
   ]
  }
 ],
 "metadata": {
  "kernelspec": {
   "display_name": "Python 3",
   "language": "python",
   "name": "python3"
  },
  "language_info": {
   "codemirror_mode": {
    "name": "ipython",
    "version": 3
   },
   "file_extension": ".py",
   "mimetype": "text/x-python",
   "name": "python",
   "nbconvert_exporter": "python",
   "pygments_lexer": "ipython3",
   "version": "3.8.3"
  }
 },
 "nbformat": 4,
 "nbformat_minor": 2
}
